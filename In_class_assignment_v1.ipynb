{
 "cells": [
  {
   "cell_type": "markdown",
   "metadata": {},
   "source": [
    "# <center> In-class Assignment 1 </center>"
   ]
  },
  {
   "cell_type": "markdown",
   "metadata": {},
   "source": [
    "**Task 1**. Guessing game (numbers)\n",
    "\n",
    "You got bored and decided to play with your friend in guessing game. You have selected some random number in a range from 0 to 100 and saved this number in the variable ```magic_number```. Your friend has 15 attempts to guess this number. If his/her answer is incorrect, your code should print \"Incorrect! Try again! You have N more attempts\", where N is the number of attempts left. If the answer is correct, congratulate him/her by displaying the message \"Correct! My magic number is X.\", where X is the value in ```magic_number```."
   ]
  },
  {
   "cell_type": "code",
   "execution_count": 3,
   "metadata": {},
   "outputs": [
    {
     "name": "stdout",
     "output_type": "stream",
     "text": [
      "Provide a number to guess: 7774\n",
      "You have 15 attempts\n",
      "Enter number: 12444\n",
      "Incorrect! Try again! You have 14 more attempts\n",
      "Enter number: 6546\n",
      "Incorrect! Try again! You have 13 more attempts\n",
      "Enter number: 666\n",
      "Incorrect! Try again! You have 12 more attempts\n",
      "Enter number: 7774\n",
      "Correct! My magic number is 7774 .\n"
     ]
    }
   ],
   "source": [
    "magic_number = input('Provide a number to guess: ')\n",
    "\n",
    "# YOUR CODE HERE\n",
    "attempts = 15\n",
    "print(\"You have\", attempts, \"attempts\")\n",
    "for i in range(attempts):\n",
    "    number = int(input('Enter number: '))\n",
    "    if (number == int(magic_number)):\n",
    "        print (\"Correct! My magic number is\", magic_number, \".\")\n",
    "        break\n",
    "    else:\n",
    "        print (\"Incorrect! Try again! You have\", 14 - i, \"more attempts\")\n"
   ]
  },
  {
   "cell_type": "markdown",
   "metadata": {},
   "source": [
    "**Task 2**. \n",
    "1. You got an internship at The Economist and your first task is to publish an article which includes the statements made by politicians. You are given a text out of quotes from the media, each sentence contains a quote and the author of this statement. Create a dictionary in which the key is the author's name (a string with first and last name), and the value is the author's quote. You are not allowed to create a new dictionary manually (copy-paste, etc.). Your code should transform a list with given strings into a dictionary mentioned above. You can use additional data structures (for example, to store only the names of politicians in it) if it helps you to get to the final dictionary. \n",
    "\n",
    "2. Replace in each quote obscene words with a string \"[censored]\" each time. Hint: Each obscene word contains an asterisk. \n",
    "\n",
    "Example: <br>\n",
    "```python\n",
    "your_dict[\"Barack Obama\"] = \"I don't sit around just talking to experts because this is a college seminar, we talk to these folks because they potentially have the best answers so I know whose [censored] to kick\"\n",
    "```"
   ]
  },
  {
   "cell_type": "code",
   "execution_count": 2,
   "metadata": {},
   "outputs": [
    {
     "name": "stdout",
     "output_type": "stream",
     "text": [
      "{'Barack Obama': \" 'I don't sit around just talking to experts because this is a college seminar, we talk to these folks because they potentially have the best answers so I know whose [censored] to kick'\", 'Kamala Harris': ' \"This guy has completely trampled on the rule of law, avoided consequence and accountability under law. For all the [censored] people give me for being a prosecutor, I believe there should be accountability and consequence\"', 'Donald Trump': 'Listen you [censored], we’re going to tax you 25 percent!'}\n"
     ]
    }
   ],
   "source": [
    "quotes = ''' 'I don't sit around just talking to experts because this is a college seminar, \n",
    "we talk to these folks because they potentially have the best answers so I know whose a** to kick', \n",
    "the president Barack Obama said. \"This guy has completely trampled on the rule of law, avoided consequence \n",
    "and accountability under law. For all the sh*t people give me for being a prosecutor, I believe there should be \n",
    "accountability and consequence\", said Kamala Harris. In a notorious speech in Las Vegas in 2011, Donald Trump \n",
    "dropped the f-word repeatedly, arguing that his message to China would be \"Listen you mother****ers, \n",
    "we’re going to tax you 25 percent!\" '''\n",
    "\n",
    "# YOUR CODE HERE\n",
    "words = [\"sh*t\", \"a**\", \"mother****ers\"]\n",
    "for word in words:\n",
    "    quotes = quotes.replace(word, \"[censored]\")\n",
    "quotes = quotes.replace(\"\\n\", \"\")\n",
    "\n",
    "spl_list = quotes.split('.')\n",
    "\n",
    "B_O = spl_list[0].split(',')[0] + ',' + spl_list[0].split(',')[1]\n",
    "K_H = spl_list[1] + '.' + spl_list[2].split(',')[0] + ',' + spl_list[2].split(',')[1]\n",
    "D_T = spl_list[3].split('\"')[1]\n",
    "\n",
    "dct = {\"Barack Obama\" : B_O, \"Kamala Harris\" : K_H, \"Donald Trump\" : D_T}\n",
    "print(dct)\n"
   ]
  },
  {
   "cell_type": "markdown",
   "metadata": {},
   "source": [
    "**Task 3**.\n",
    "\n",
    "We have 3 groups, 15 students, and their grades for the final exam. Write a function that returns back a group with the greatest number of students, who passed the exam with a grade higher than 8. If there are several groups, provide a list with them in ascending order.\n",
    "\n",
    "Example: <br>\n",
    "\n",
    "```Input of your function: exam_result```"
   ]
  },
  {
   "cell_type": "code",
   "execution_count": 6,
   "metadata": {},
   "outputs": [
    {
     "name": "stdout",
     "output_type": "stream",
     "text": [
      "6\n"
     ]
    }
   ],
   "source": [
    "exam_results = {\n",
    "    'Student 1' : {'grade': 8, 'group': 101},\n",
    "    'Student 2' : {'grade': 9, 'group': 102},\n",
    "    'Student 3' : {'grade': 6, 'group': 101},\n",
    "    'Student 4' : {'grade': 7, 'group': 103},\n",
    "    'Student 5' : {'grade': 9, 'group': 103},\n",
    "    'Student 6' : {'grade': 4, 'group': 101},\n",
    "    'Student 7' : {'grade': 2, 'group': 103},\n",
    "    'Student 8' : {'grade': 8, 'group': 102},\n",
    "    'Student 9' : {'grade': 10, 'group': 101},\n",
    "    'Student 10' : {'grade': 10, 'group': 103},\n",
    "    'Student 11' : {'grade': 6, 'group': 102},\n",
    "    'Student 12' : {'grade': 9, 'group': 102},\n",
    "    'Student 13' : {'grade': 4, 'group': 101},\n",
    "    'Student 14' : {'grade': 8, 'group': 103},\n",
    "    'Student 15' : {'grade': 5, 'group': 102},\n",
    "}\n",
    "print(exam_results['Student 11']['grade'])"
   ]
  },
  {
   "cell_type": "markdown",
   "metadata": {},
   "source": [
    "```Output of your function```: [102, 103]\n",
    "\n",
    "*Hint*: Note that each value in this dictionary is also a dictionary. \n",
    "If you want to get a value for a grade or for a group of a particular student, you request it by key:\n",
    "\n",
    "```python\n",
    "   >>> exam_results['Student 11']['grade']\n",
    "   Out: 6\n",
    "```\n",
    "\n",
    "```python\n",
    "   >>> exam_results['Student 11']['group']\n",
    "   Out: 102\n",
    "```\n",
    "\n",
    "Also, don't forget to run a cell above for creating exam_results."
   ]
  },
  {
   "cell_type": "code",
   "execution_count": 17,
   "metadata": {},
   "outputs": [],
   "source": [
    "def most_productive_group(exam_results):\n",
    "    gr_dict = {101 : 0, 102 : 0, 103 : 0}\n",
    "    for i in range(len(exam_results)):\n",
    "        student_group = exam_results['Student ' + str(i+1)]['group']\n",
    "        if(exam_results['Student ' + str(i+1)]['grade'] > 8):\n",
    "            gr_dict[student_group] = gr_dict[student_group] + 1\n",
    "    grades_group = [gr_dict[101], gr_dict[102], gr_dict[103]]\n",
    "    grades_group.sort()\n",
    "    max_gr = list()\n",
    "    \n",
    "    for group, grade in gr_dict.items():  \n",
    "        if grades_group[-1] == grade:\n",
    "            max_gr.append(group)\n",
    "                          \n",
    "    return (max_gr)\n",
    "        "
   ]
  },
  {
   "cell_type": "code",
   "execution_count": 18,
   "metadata": {},
   "outputs": [
    {
     "data": {
      "text/plain": [
       "[102, 103]"
      ]
     },
     "execution_count": 18,
     "metadata": {},
     "output_type": "execute_result"
    }
   ],
   "source": [
    "most_productive_group(exam_results)"
   ]
  }
 ],
 "metadata": {
  "kernelspec": {
   "display_name": "Python 3",
   "language": "python",
   "name": "python3"
  },
  "language_info": {
   "codemirror_mode": {
    "name": "ipython",
    "version": 3
   },
   "file_extension": ".py",
   "mimetype": "text/x-python",
   "name": "python",
   "nbconvert_exporter": "python",
   "pygments_lexer": "ipython3",
   "version": "3.8.5"
  }
 },
 "nbformat": 4,
 "nbformat_minor": 2
}
